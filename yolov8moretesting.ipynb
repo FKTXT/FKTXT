from ultralytics import YOLO
import cv2

# Load the YOLO model
model = YOLO('yolov8n.pt')

# Perform prediction on the input image
results = model.predict(
   source='https://media.roboflow.com/notebooks/examples/dog.jpeg',
   conf=0.25
)
print(results[0])
plotted = results[0].plot()
cv2.imshow("plotted", plotted)
