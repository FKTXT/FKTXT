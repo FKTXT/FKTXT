{
 "cells": [
  {
   "cell_type": "code",
   "execution_count": 1,
   "metadata": {},
   "outputs": [
    {
     "name": "stderr",
     "output_type": "stream",
     "text": [
      "c:\\Users\\trexx\\AppData\\Local\\Programs\\Python\\Python39\\lib\\site-packages\\tqdm\\auto.py:22: TqdmWarning: IProgress not found. Please update jupyter and ipywidgets. See https://ipywidgets.readthedocs.io/en/stable/user_install.html\n",
      "  from .autonotebook import tqdm as notebook_tqdm\n"
     ]
    }
   ],
   "source": [
    "from ultralytics import YOLO\n",
    "import cv2\n",
    "from PIL import Image"
   ]
  },
  {
   "cell_type": "code",
   "execution_count": 2,
   "metadata": {},
   "outputs": [],
   "source": [
    "# Load the YOLO model\n",
    "model = YOLO('yolov8n.pt')"
   ]
  },
  {
   "cell_type": "code",
   "execution_count": 2,
   "metadata": {},
   "outputs": [],
   "source": [
    "img = cv2.imread(\"dog.jpeg\")\n",
    "cv2.imshow(\"img\", img)\n",
    "cv2.waitKey(1)\n",
    "cv2.destroyAllWindows()"
   ]
  },
  {
   "cell_type": "code",
   "execution_count": 4,
   "metadata": {},
   "outputs": [
    {
     "name": "stderr",
     "output_type": "stream",
     "text": [
      "\n",
      "Found https:\\media.roboflow.com\\notebooks\\examples\\dog.jpeg locally at dog.jpeg\n",
      "image 1/1 w:\\Code\\FKTXT\\FKTXT\\dog.jpeg: 640x384 1 person, 1 car, 1 dog, 245.3ms\n",
      "Speed: 4.0ms preprocess, 245.3ms inference, 3.0ms postprocess per image at shape (1, 3, 640, 384)\n"
     ]
    }
   ],
   "source": [
    "# Perform prediction on the input image\n",
    "results = model.predict(\n",
    "   source='https://media.roboflow.com/notebooks/examples/dog.jpeg',\n",
    "   conf=0.25\n",
    ")\n",
    "\n",
    "result = results[0]\n",
    "classes = result.names\n",
    "\n",
    "for box in result.boxes:\n",
    "   x1, y1, x2, y2 = list(map(int, box.xyxy[0].tolist()))\n",
    "   class_id = box.cls[0].item()\n",
    "   conf = box.conf[0].item()\n",
    "\n",
    "   obje = classes[class_id]\n",
    "   \n",
    "   cv2.rectangle(img, (x1, y1), (x2, y2), (255,0,0), 2)\n",
    "   cv2.putText(img, f\"/{obje}, {conf}\", (x1, y1), cv2.FONT_HERSHEY_COMPLEX, .1, (0, 255, 255), 1)\n",
    "\n",
    "cv2.imshow(\"img\", img)\n",
    "cv2.waitKey(1)"
   ]
  }
 ],
 "metadata": {
  "kernelspec": {
   "display_name": "Python 3",
   "language": "python",
   "name": "python3"
  },
  "language_info": {
   "codemirror_mode": {
    "name": "ipython",
    "version": 3
   },
   "file_extension": ".py",
   "mimetype": "text/x-python",
   "name": "python",
   "nbconvert_exporter": "python",
   "pygments_lexer": "ipython3",
   "version": "3.9.5"
  },
  "orig_nbformat": 4
 },
 "nbformat": 4,
 "nbformat_minor": 2
}
